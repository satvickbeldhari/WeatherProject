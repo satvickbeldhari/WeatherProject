{
 "cells": [
  {
   "cell_type": "code",
   "execution_count": 2,
   "metadata": {},
   "outputs": [],
   "source": [
    "import os\n",
    "from pptx import Presentation\n",
    "from pptx.util import Inches, Pt\n",
    "from pptx.dml.color import RGBColor\n",
    "import matplotlib.pyplot as plt\n",
    "import pandas as pd"
   ]
  },
  {
   "cell_type": "code",
   "execution_count": 3,
   "metadata": {},
   "outputs": [],
   "source": [
    "# Step 1: Simulate Analysis Results (replace with actual results from your script)\n",
    "mse = 31.64 # Mean Squared Error\n",
    "highest_rainfall_month = \"July\"\n",
    "lowest_rainfall_month = \"January\"\n",
    "\n",
    "# Simulate Monthly Data (replace with actual data)\n",
    "monthly_avg_max_temp = pd.Series([32, 34, 36, 38, 40, 42, 41, 39, 37, 35, 33, 31], \n",
    "                                 index=range(1, 13))\n",
    "monthly_total_rainfall = pd.Series([100, 120, 150, 200, 300, 400, 500, 450, 350, 200, 150, 120], \n",
    "                                   index=range(1, 13))"
   ]
  },
  {
   "cell_type": "code",
   "execution_count": 4,
   "metadata": {},
   "outputs": [],
   "source": [
    "\n",
    "# Step 2: Locate the Folder of Data File\n",
    "data_file_path = 'weather.csv'  # Your data file name\n",
    "data_folder = os.path.dirname(os.path.abspath(data_file_path))"
   ]
  },
  {
   "cell_type": "code",
   "execution_count": 5,
   "metadata": {},
   "outputs": [],
   "source": [
    "# Step 3: Define the Path for the PPT File\n",
    "ppt_file_path = os.path.join(data_folder, 'weather_analysis_report.pptx')"
   ]
  },
  {
   "cell_type": "code",
   "execution_count": 6,
   "metadata": {},
   "outputs": [],
   "source": [
    "# Step 4: Create the PowerPoint Presentation\n",
    "prs = Presentation()\n",
    "# Title Slide\n",
    "slide = prs.slides.add_slide(prs.slide_layouts[0])  # Title slide layout\n",
    "title = slide.shapes.title\n",
    "subtitle = slide.placeholders[1]\n",
    "title.text = \"Weather Analysis Report\"\n",
    "subtitle.text = \"Interactive and visually engaging insights\"\n",
    "# Style to Title\n",
    "title.text_frame.paragraphs[0].font.size = Pt(44)\n",
    "title.text_frame.paragraphs[0].font.bold = True\n",
    "subtitle.text_frame.paragraphs[0].font.size = Pt(28)\n",
    "subtitle.text_frame.paragraphs[0].font.color.rgb = RGBColor(50, 50, 250)"
   ]
  },
  {
   "cell_type": "code",
   "execution_count": 7,
   "metadata": {},
   "outputs": [],
   "source": [
    "# Insights Slide\n",
    "slide = prs.slides.add_slide(prs.slide_layouts[1])  # Title and Content layout\n",
    "title = slide.shapes.title\n",
    "content = slide.placeholders[1]\n",
    "title.text = \"Key Insights\"\n",
    "content.text = f\"1. Mean Squared Error (Rainfall Prediction): {mse:.2f}\\n\" \\\n",
    "               f\"2. Highest Rainfall Month: {highest_rainfall_month}\\n\" \\\n",
    "               f\"3. Lowest Rainfall Month: {lowest_rainfall_month}\"\n",
    "#Color to Insights Text\n",
    "content.text_frame.paragraphs[0].font.color.rgb = RGBColor(34, 139, 34)"
   ]
  },
  {
   "cell_type": "code",
   "execution_count": 8,
   "metadata": {},
   "outputs": [
    {
     "data": {
      "text/plain": [
       "<pptx.shapes.picture.Picture at 0x176ed73f320>"
      ]
     },
     "execution_count": 8,
     "metadata": {},
     "output_type": "execute_result"
    }
   ],
   "source": [
    "# Graph 1 (Average Max Temperature)\n",
    "plt.figure(figsize=(10, 5))\n",
    "plt.plot(monthly_avg_max_temp.index, monthly_avg_max_temp.values, marker='o')\n",
    "plt.xlabel('Month')\n",
    "plt.ylabel('Average Max Temperature (°C)')\n",
    "plt.title('Monthly Average Max Temperature')\n",
    "plt.grid(True)\n",
    "graph1_path = os.path.join(data_folder, 'avg_temp_graph.png')\n",
    "plt.savefig(graph1_path)\n",
    "plt.close()\n",
    "#Graph Slide 1\n",
    "slide = prs.slides.add_slide(prs.slide_layouts[5])  # Title Only layout\n",
    "title = slide.shapes.title\n",
    "title.text = \"Monthly Average Max Temperature\"\n",
    "slide.shapes.add_picture(graph1_path, Inches(1), Inches(2), width=Inches(6))"
   ]
  },
  {
   "cell_type": "code",
   "execution_count": 9,
   "metadata": {},
   "outputs": [
    {
     "data": {
      "text/plain": [
       "<pptx.shapes.picture.Picture at 0x176efcd8d10>"
      ]
     },
     "execution_count": 9,
     "metadata": {},
     "output_type": "execute_result"
    }
   ],
   "source": [
    "# Graph 2 (Total Rainfall)\n",
    "plt.figure(figsize=(10, 5))\n",
    "plt.bar(monthly_total_rainfall.index, monthly_total_rainfall.values, color='blue', alpha=0.6)\n",
    "plt.xlabel('Month')\n",
    "plt.ylabel('Total Rainfall (mm)')\n",
    "plt.title('Monthly Total Rainfall')\n",
    "plt.grid(True)\n",
    "graph2_path = os.path.join(data_folder, 'total_rainfall_graph.png')\n",
    "plt.savefig(graph2_path)\n",
    "plt.close()\n",
    "slide = prs.slides.add_slide(prs.slide_layouts[5]) \n",
    "title = slide.shapes.title\n",
    "title.text = \"Monthly Total Rainfall\"\n",
    "slide.shapes.add_picture(graph2_path, Inches(1), Inches(2), width=Inches(6))"
   ]
  },
  {
   "cell_type": "code",
   "execution_count": 10,
   "metadata": {},
   "outputs": [],
   "source": [
    "# Conclusion Slide\n",
    "slide = prs.slides.add_slide(prs.slide_layouts[1])  # Title and Content layout\n",
    "title = slide.shapes.title\n",
    "content = slide.placeholders[1]\n",
    "title.text = \"Conclusions and Future Work\"\n",
    "content.text = \"1. Use advanced machine learning models (e.g., Random Forest) for predictions.\\n\" \\\n",
    "               \"2. Incorporate additional datasets like wind speed or humidity.\\n\" \\\n",
    "               \"3. Build an interactive web-based weather dashboard.\""
   ]
  },
  {
   "cell_type": "code",
   "execution_count": 11,
   "metadata": {},
   "outputs": [
    {
     "name": "stdout",
     "output_type": "stream",
     "text": [
      "Presentation created successfully: c:\\Users\\BELDHARI SATVICK\\Downloads\\Slash Mark Project\\task1\\weather_analysis_report.pptx\n"
     ]
    }
   ],
   "source": [
    "#Step 5: Save the PowerPoint Presentation\n",
    "prs.save(ppt_file_path)\n",
    "print(f\"Presentation created successfully: {ppt_file_path}\")"
   ]
  },
  {
   "cell_type": "code",
   "execution_count": null,
   "metadata": {},
   "outputs": [],
   "source": []
  },
  {
   "cell_type": "code",
   "execution_count": null,
   "metadata": {},
   "outputs": [],
   "source": []
  },
  {
   "cell_type": "code",
   "execution_count": null,
   "metadata": {},
   "outputs": [],
   "source": []
  },
  {
   "cell_type": "code",
   "execution_count": null,
   "metadata": {},
   "outputs": [],
   "source": []
  }
 ],
 "metadata": {
  "kernelspec": {
   "display_name": "env",
   "language": "python",
   "name": "python3"
  },
  "language_info": {
   "codemirror_mode": {
    "name": "ipython",
    "version": 3
   },
   "file_extension": ".py",
   "mimetype": "text/x-python",
   "name": "python",
   "nbconvert_exporter": "python",
   "pygments_lexer": "ipython3",
   "version": "3.12.5"
  }
 },
 "nbformat": 4,
 "nbformat_minor": 2
}
